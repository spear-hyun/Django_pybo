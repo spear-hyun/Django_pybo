{
 "cells": [
  {
   "cell_type": "code",
   "execution_count": 1,
   "id": "7836bf93",
   "metadata": {},
   "outputs": [],
   "source": [
    "from pybo.models import Question, Answer\n",
    "import os\n",
    "\n",
    "os.environ[\"DJANGO_ALLOW_ASYNC_UNSAFE\"] = \"true\"\n",
    "\n",
    "from django.utils import timezone"
   ]
  },
  {
   "cell_type": "code",
   "execution_count": 2,
   "id": "50e7d45e",
   "metadata": {},
   "outputs": [
    {
     "data": {
      "text/plain": [
       "<QuerySet [<Question: 내일은 뭘 먹을까?>, <Question: 내일은 뭘 먹을까?>, <Question: 내일은 뭘 먹을까?>, <Question: 내일은 뭘 먹을까?>, <Question: 내일은 뭘 먹을까?>, <Question: 내일은 뭘 먹을까?>, <Question: 내일은 뭘 먹을까?>, <Question: 내일은 뭘 먹을까?>, <Question: 내일은 뭘 먹을까?>, <Question: 내일은 뭘 먹을까?>]>"
      ]
     },
     "execution_count": 2,
     "metadata": {},
     "output_type": "execute_result"
    }
   ],
   "source": [
    "Question.objects.all()"
   ]
  },
  {
   "cell_type": "code",
   "execution_count": 4,
   "id": "1cfebb13",
   "metadata": {},
   "outputs": [],
   "source": [
    "q = Question.objects.filter(id=5)"
   ]
  },
  {
   "cell_type": "code",
   "execution_count": 6,
   "id": "dfe4f5d0",
   "metadata": {},
   "outputs": [
    {
     "data": {
      "text/plain": [
       "(0, {})"
      ]
     },
     "execution_count": 6,
     "metadata": {},
     "output_type": "execute_result"
    }
   ],
   "source": [
    "q.delete() #id값 5번 지워!"
   ]
  },
  {
   "cell_type": "code",
   "execution_count": 9,
   "id": "a67be510",
   "metadata": {},
   "outputs": [],
   "source": [
    "q = Question.objects.get(id=1)"
   ]
  },
  {
   "cell_type": "code",
   "execution_count": 11,
   "id": "337f3ce4",
   "metadata": {},
   "outputs": [],
   "source": [
    "a = Answer(question=q, content=\"마라탕\", create_date = timezone.now())"
   ]
  },
  {
   "cell_type": "code",
   "execution_count": 13,
   "id": "a0245cb4",
   "metadata": {},
   "outputs": [],
   "source": [
    "a.save()"
   ]
  },
  {
   "cell_type": "code",
   "execution_count": null,
   "id": "cb0a90b6",
   "metadata": {},
   "outputs": [],
   "source": []
  }
 ],
 "metadata": {
  "kernelspec": {
   "display_name": "Django Shell-Plus",
   "language": "python",
   "name": "django_extensions"
  },
  "language_info": {
   "codemirror_mode": {
    "name": "ipython",
    "version": 3
   },
   "file_extension": ".py",
   "mimetype": "text/x-python",
   "name": "python",
   "nbconvert_exporter": "python",
   "pygments_lexer": "ipython3",
   "version": "3.11.1"
  }
 },
 "nbformat": 4,
 "nbformat_minor": 5
}
