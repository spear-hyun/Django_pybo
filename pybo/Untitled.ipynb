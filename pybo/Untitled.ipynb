{
 "cells": [
  {
   "cell_type": "code",
   "execution_count": 2,
   "id": "4457611a",
   "metadata": {},
   "outputs": [],
   "source": [
    "from pybo.models import Question, Answer\n",
    "import os\n",
    "\n",
    "os.environ[\"DJANGO_ALLOW_ASYNC_UNSAFE\"] = \"true\"\n",
    "\n",
    "from django.utils import timezone"
   ]
  },
  {
   "cell_type": "code",
   "execution_count": 4,
   "id": "f4d16a16",
   "metadata": {},
   "outputs": [],
   "source": [
    "import os\n",
    "\n",
    "os.environ[\"DJANGO_ALLOW_ASYNC_UNSAFE\"] = \"true\"\n",
    "\n",
    "from django.utils import timezone\n",
    "q = Question(subject=\"내일은 뭘 먹을까?\", content=\"맛집 리스트 정리\", \n",
    "         create_date=timezone.now())\n",
    "\n",
    "q.save()\n"
   ]
  },
  {
   "cell_type": "code",
   "execution_count": 5,
   "id": "b2e8ced8",
   "metadata": {},
   "outputs": [],
   "source": [
    "for x in range(10):\n",
    "    q = Question(subject=\"내일은 뭘 먹을까?\", content=\"맛집 리스트 정리\", \n",
    "         create_date=timezone.now())\n",
    "\n",
    "    q.save()\n"
   ]
  },
  {
   "cell_type": "code",
   "execution_count": 7,
   "id": "9ce19e6e",
   "metadata": {},
   "outputs": [
    {
     "ename": "ValueError",
     "evalue": "Question object can't be deleted because its id attribute is set to None.",
     "output_type": "error",
     "traceback": [
      "\u001b[0;31m---------------------------------------------------------------------------\u001b[0m",
      "\u001b[0;31mValueError\u001b[0m                                Traceback (most recent call last)",
      "Cell \u001b[0;32mIn[7], line 1\u001b[0m\n\u001b[0;32m----> 1\u001b[0m \u001b[43mq\u001b[49m\u001b[38;5;241;43m.\u001b[39;49m\u001b[43mdelete\u001b[49m\u001b[43m(\u001b[49m\u001b[43m)\u001b[49m\n",
      "File \u001b[0;32m~/workspace/venv/lib/python3.11/site-packages/django/db/models/base.py:1111\u001b[0m, in \u001b[0;36mModel.delete\u001b[0;34m(self, using, keep_parents)\u001b[0m\n\u001b[1;32m   1109\u001b[0m \u001b[38;5;28;01mdef\u001b[39;00m \u001b[38;5;21mdelete\u001b[39m(\u001b[38;5;28mself\u001b[39m, using\u001b[38;5;241m=\u001b[39m\u001b[38;5;28;01mNone\u001b[39;00m, keep_parents\u001b[38;5;241m=\u001b[39m\u001b[38;5;28;01mFalse\u001b[39;00m):\n\u001b[1;32m   1110\u001b[0m     \u001b[38;5;28;01mif\u001b[39;00m \u001b[38;5;28mself\u001b[39m\u001b[38;5;241m.\u001b[39mpk \u001b[38;5;129;01mis\u001b[39;00m \u001b[38;5;28;01mNone\u001b[39;00m:\n\u001b[0;32m-> 1111\u001b[0m         \u001b[38;5;28;01mraise\u001b[39;00m \u001b[38;5;167;01mValueError\u001b[39;00m(\n\u001b[1;32m   1112\u001b[0m             \u001b[38;5;124m\"\u001b[39m\u001b[38;5;132;01m%s\u001b[39;00m\u001b[38;5;124m object can\u001b[39m\u001b[38;5;124m'\u001b[39m\u001b[38;5;124mt be deleted because its \u001b[39m\u001b[38;5;132;01m%s\u001b[39;00m\u001b[38;5;124m attribute is set \u001b[39m\u001b[38;5;124m\"\u001b[39m\n\u001b[1;32m   1113\u001b[0m             \u001b[38;5;124m\"\u001b[39m\u001b[38;5;124mto None.\u001b[39m\u001b[38;5;124m\"\u001b[39m \u001b[38;5;241m%\u001b[39m (\u001b[38;5;28mself\u001b[39m\u001b[38;5;241m.\u001b[39m_meta\u001b[38;5;241m.\u001b[39mobject_name, \u001b[38;5;28mself\u001b[39m\u001b[38;5;241m.\u001b[39m_meta\u001b[38;5;241m.\u001b[39mpk\u001b[38;5;241m.\u001b[39mattname)\n\u001b[1;32m   1114\u001b[0m         )\n\u001b[1;32m   1115\u001b[0m     using \u001b[38;5;241m=\u001b[39m using \u001b[38;5;129;01mor\u001b[39;00m router\u001b[38;5;241m.\u001b[39mdb_for_write(\u001b[38;5;28mself\u001b[39m\u001b[38;5;241m.\u001b[39m\u001b[38;5;18m__class__\u001b[39m, instance\u001b[38;5;241m=\u001b[39m\u001b[38;5;28mself\u001b[39m)\n\u001b[1;32m   1116\u001b[0m     collector \u001b[38;5;241m=\u001b[39m Collector(using\u001b[38;5;241m=\u001b[39musing, origin\u001b[38;5;241m=\u001b[39m\u001b[38;5;28mself\u001b[39m)\n",
      "\u001b[0;31mValueError\u001b[0m: Question object can't be deleted because its id attribute is set to None."
     ]
    }
   ],
   "source": [
    "q.delete()"
   ]
  },
  {
   "cell_type": "code",
   "execution_count": null,
   "id": "00535418",
   "metadata": {},
   "outputs": [],
   "source": []
  },
  {
   "cell_type": "code",
   "execution_count": null,
   "id": "5dd0cccc",
   "metadata": {},
   "outputs": [],
   "source": []
  },
  {
   "cell_type": "code",
   "execution_count": null,
   "id": "ec2f8e64",
   "metadata": {},
   "outputs": [],
   "source": []
  },
  {
   "cell_type": "code",
   "execution_count": null,
   "id": "a4384e9d",
   "metadata": {},
   "outputs": [],
   "source": []
  }
 ],
 "metadata": {
  "kernelspec": {
   "display_name": "Python 3.11.1 64-bit",
   "language": "python",
   "name": "python3"
  },
  "language_info": {
   "codemirror_mode": {
    "name": "ipython",
    "version": 3
   },
   "file_extension": ".py",
   "mimetype": "text/x-python",
   "name": "python",
   "nbconvert_exporter": "python",
   "pygments_lexer": "ipython3",
   "version": "3.11.1"
  },
  "vscode": {
   "interpreter": {
    "hash": "aee8b7b246df8f9039afb4144a1f6fd8d2ca17a180786b69acc140d282b71a49"
   }
  }
 },
 "nbformat": 4,
 "nbformat_minor": 5
}
