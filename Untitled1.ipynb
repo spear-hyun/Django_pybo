{
 "cells": [
  {
   "cell_type": "code",
   "execution_count": 1,
   "id": "710cc07f",
   "metadata": {},
   "outputs": [],
   "source": [
    "from pybo.models import Question, Answer\n",
    "import os\n",
    "os.environ[\"DJANGO_ALLOW_ASYNC_UNSAFE\"] = \"true\"\n",
    "from django.utils import timezone"
   ]
  },
  {
   "cell_type": "code",
   "execution_count": 2,
   "id": "29b44f1e",
   "metadata": {},
   "outputs": [
    {
     "data": {
      "text/plain": [
       "<QuerySet [<Question: 내일은 뭘 먹을까?>, <Question: 내일은 뭘 먹을까?>, <Question: 내일은 뭘 먹을까?>, <Question: 내일은 뭘 먹을까?>, <Question: 내일은 뭘 먹을까?>, <Question: 내일은 뭘 먹을까?>, <Question: 내일은 뭘 먹을까?>, <Question: 내일은 뭘 먹을까?>, <Question: 내일은 뭘 먹을까?>, <Question: 내일은 뭘 먹을까?>]>"
      ]
     },
     "execution_count": 2,
     "metadata": {},
     "output_type": "execute_result"
    }
   ],
   "source": [
    "Question.objects.all()"
   ]
  },
  {
   "cell_type": "code",
   "execution_count": 4,
   "id": "ec89fb3c",
   "metadata": {},
   "outputs": [],
   "source": [
    "q = Question.objects.filter(id=5)"
   ]
  },
  {
   "cell_type": "code",
   "execution_count": 5,
   "id": "9bf59d97",
   "metadata": {},
   "outputs": [
    {
     "data": {
      "text/plain": [
       "(1, {'pybo.Question': 1})"
      ]
     },
     "execution_count": 5,
     "metadata": {},
     "output_type": "execute_result"
    }
   ],
   "source": [
    "q.delete()"
   ]
  },
  {
   "cell_type": "code",
   "execution_count": 8,
   "id": "ef947311",
   "metadata": {},
   "outputs": [],
   "source": [
    "q = Question.objects.get(id=1)\n",
    "a = Answer(question=q, content=\"마라탕\", create_date=timezone.now())"
   ]
  },
  {
   "cell_type": "code",
   "execution_count": 11,
   "id": "a7038e17",
   "metadata": {},
   "outputs": [],
   "source": [
    "a.save()"
   ]
  },
  {
   "cell_type": "code",
   "execution_count": null,
   "id": "e87e2bd9",
   "metadata": {},
   "outputs": [],
   "source": []
  }
 ],
 "metadata": {
  "kernelspec": {
   "display_name": "Django Shell-Plus",
   "language": "python",
   "name": "django_extensions"
  },
  "language_info": {
   "codemirror_mode": {
    "name": "ipython",
    "version": 3
   },
   "file_extension": ".py",
   "mimetype": "text/x-python",
   "name": "python",
   "nbconvert_exporter": "python",
   "pygments_lexer": "ipython3",
   "version": "3.10.6"
  }
 },
 "nbformat": 4,
 "nbformat_minor": 5
}
